{
  "nbformat": 4,
  "nbformat_minor": 0,
  "metadata": {
    "colab": {
      "name": "HooHacks.ipynb",
      "provenance": [],
      "collapsed_sections": []
    },
    "kernelspec": {
      "name": "python3",
      "display_name": "Python 3"
    }
  },
  "cells": [
    {
      "cell_type": "markdown",
      "metadata": {
        "id": "c3qu0cr6MDtN",
        "colab_type": "text"
      },
      "source": [
        "HooHacks 2020 - Cats and Dogs"
      ]
    },
    {
      "cell_type": "markdown",
      "metadata": {
        "id": "MnnGOd8AMAob",
        "colab_type": "text"
      },
      "source": [
        "Jelena Liu, Richa Gupta, and Ethan Gumabay"
      ]
    },
    {
      "cell_type": "code",
      "metadata": {
        "id": "WHi-XMvwMIOC",
        "colab_type": "code",
        "colab": {}
      },
      "source": [
        "import numpy as np\n",
        "from PIL import Image\n",
        "from keras.preprocessing.image import load_img\n",
        "from keras.preprocessing.image import img_to_array\n",
        "# Load sample images -- Cats\n",
        "cats = []\n",
        "cats_images = []\n",
        "for i in range(0, 251): \n",
        "  img_path = \"/content/Cats/\" + str(i) + \".jpg\"\n",
        "  img = Image.open(img_path)\n",
        "  img = img.resize((200, 200))\n",
        "  \n",
        "  if (img_to_array(img).shape == (200, 200, 3)):\n",
        "    cats_images.append(img)\n",
        "    cats.append(img_to_array(img))\n",
        "\n",
        "dogs = []\n",
        "dogs_images = []\n",
        "for i in range(0, 251): \n",
        "  img_path = \"/content/Dogs/\" + str(i) + \".jpg\"\n",
        "  img = Image.open(img_path)\n",
        "  img = img.resize((200,200))\n",
        "  \n",
        "  if (img_to_array(img).shape == (200, 200, 3)):\n",
        "    dogs_images.append(img)\n",
        "    dogs.append(img_to_array(img))"
      ],
      "execution_count": 0,
      "outputs": []
    },
    {
      "cell_type": "code",
      "metadata": {
        "id": "T5K4c4bGpfZP",
        "colab_type": "code",
        "colab": {}
      },
      "source": [
        "x = np.concatenate((cats, dogs), axis=0)\n",
        "y1 = np.full((np.shape(cats)[0],1),0)\n",
        "y2 = np.full((np.shape(dogs)[0],1),1)\n",
        "y = np.concatenate((y1,y2),axis=None)"
      ],
      "execution_count": 0,
      "outputs": []
    },
    {
      "cell_type": "code",
      "metadata": {
        "id": "tX_ZXPtYt3fx",
        "colab_type": "code",
        "colab": {
          "base_uri": "https://localhost:8080/",
          "height": 34
        },
        "outputId": "bc8e004d-0e85-469b-9a90-cf1e34b1cc61"
      },
      "source": [
        "x.shape"
      ],
      "execution_count": 131,
      "outputs": [
        {
          "output_type": "execute_result",
          "data": {
            "text/plain": [
              "(501, 200, 200, 3)"
            ]
          },
          "metadata": {
            "tags": []
          },
          "execution_count": 131
        }
      ]
    },
    {
      "cell_type": "code",
      "metadata": {
        "id": "R1TQw_VetL0o",
        "colab_type": "code",
        "colab": {}
      },
      "source": [
        "from sklearn.model_selection import train_test_split\n",
        "X_train, X_test, y_train, y_test = train_test_split(x, y, test_size=0.20, random_state=42)"
      ],
      "execution_count": 0,
      "outputs": []
    },
    {
      "cell_type": "code",
      "metadata": {
        "id": "vHZvihlWvWOk",
        "colab_type": "code",
        "colab": {
          "base_uri": "https://localhost:8080/",
          "height": 85
        },
        "outputId": "b9acd385-5c98-4704-e8ab-5652816f8446"
      },
      "source": [
        "print(X_train.shape)\n",
        "print(y_train.shape)\n",
        "print(X_test.shape)\n",
        "print(y_test.shape)"
      ],
      "execution_count": 133,
      "outputs": [
        {
          "output_type": "stream",
          "text": [
            "(400, 200, 200, 3)\n",
            "(400,)\n",
            "(101, 200, 200, 3)\n",
            "(101,)\n"
          ],
          "name": "stdout"
        }
      ]
    },
    {
      "cell_type": "code",
      "metadata": {
        "id": "dHmVIu_denm7",
        "colab_type": "code",
        "colab": {}
      },
      "source": [
        "np.random.seed(42)"
      ],
      "execution_count": 0,
      "outputs": []
    },
    {
      "cell_type": "code",
      "metadata": {
        "id": "8cNPyegsgUKC",
        "colab_type": "code",
        "colab": {}
      },
      "source": [
        "from functools import partial\n",
        "from tensorflow import keras\n",
        "DefaultConv2D = partial(keras.layers.Conv2D,\n",
        "                        kernel_size=3, activation='relu', padding=\"SAME\")\n",
        "\n",
        "model = keras.models.Sequential([\n",
        "    DefaultConv2D(filters=64, kernel_size=7, input_shape=[200, 200, 3]),\n",
        "    keras.layers.MaxPooling2D(pool_size=2),\n",
        "    DefaultConv2D(filters=128),\n",
        "    DefaultConv2D(filters=128),\n",
        "    keras.layers.MaxPooling2D(pool_size=2),\n",
        "    DefaultConv2D(filters=256),\n",
        "    DefaultConv2D(filters=256),\n",
        "    keras.layers.MaxPooling2D(pool_size=2),\n",
        "    keras.layers.Flatten(),\n",
        "    keras.layers.Dense(units=128, activation='relu'),\n",
        "    keras.layers.Dropout(0.5),\n",
        "    keras.layers.Dense(units=64, activation='relu'),\n",
        "    keras.layers.Dropout(0.5),\n",
        "    keras.layers.Dense(units=10, activation='softmax'),\n",
        "])"
      ],
      "execution_count": 0,
      "outputs": []
    },
    {
      "cell_type": "code",
      "metadata": {
        "id": "mxzjU0wHv2GS",
        "colab_type": "code",
        "colab": {}
      },
      "source": [
        "model.compile(loss=\"sparse_categorical_crossentropy\", optimizer=\"nadam\", metrics=[\"accuracy\"])"
      ],
      "execution_count": 0,
      "outputs": []
    },
    {
      "cell_type": "code",
      "metadata": {
        "id": "dNHK6Jzkw2W9",
        "colab_type": "code",
        "colab": {
          "base_uri": "https://localhost:8080/",
          "height": 357
        },
        "outputId": "0e8f4270-9b7c-435c-fd9e-9385971a4011"
      },
      "source": [
        "history = model.fit(X_train, y_train, epochs=10)"
      ],
      "execution_count": 137,
      "outputs": [
        {
          "output_type": "stream",
          "text": [
            "Epoch 1/10\n",
            "13/13 [==============================] - 208s 16s/step - loss: 32.2272 - accuracy: 0.3325\n",
            "Epoch 2/10\n",
            "13/13 [==============================] - 207s 16s/step - loss: 1.6586 - accuracy: 0.3950\n",
            "Epoch 3/10\n",
            "13/13 [==============================] - 207s 16s/step - loss: 1.5740 - accuracy: 0.4275\n",
            "Epoch 4/10\n",
            "13/13 [==============================] - 207s 16s/step - loss: 1.2804 - accuracy: 0.4525\n",
            "Epoch 5/10\n",
            "13/13 [==============================] - 207s 16s/step - loss: 1.2452 - accuracy: 0.5025\n",
            "Epoch 6/10\n",
            "13/13 [==============================] - 207s 16s/step - loss: 1.1287 - accuracy: 0.5125\n",
            "Epoch 7/10\n",
            "13/13 [==============================] - 207s 16s/step - loss: 1.0860 - accuracy: 0.5150\n",
            "Epoch 8/10\n",
            "13/13 [==============================] - 207s 16s/step - loss: 1.1295 - accuracy: 0.4975\n",
            "Epoch 9/10\n",
            "13/13 [==============================] - 207s 16s/step - loss: 0.9666 - accuracy: 0.5000\n",
            "Epoch 10/10\n",
            "13/13 [==============================] - 207s 16s/step - loss: 1.0780 - accuracy: 0.5025\n"
          ],
          "name": "stdout"
        }
      ]
    },
    {
      "cell_type": "code",
      "metadata": {
        "id": "e2GRfNBj7Gva",
        "colab_type": "code",
        "colab": {}
      },
      "source": [
        "X_new = X_test[:10]"
      ],
      "execution_count": 0,
      "outputs": []
    },
    {
      "cell_type": "code",
      "metadata": {
        "id": "JOJUsiQB77cJ",
        "colab_type": "code",
        "colab": {}
      },
      "source": [
        "y_pred = model.predict(X_new)"
      ],
      "execution_count": 0,
      "outputs": []
    },
    {
      "cell_type": "code",
      "metadata": {
        "id": "lEXZMZTA79pl",
        "colab_type": "code",
        "colab": {
          "base_uri": "https://localhost:8080/",
          "height": 527
        },
        "outputId": "4952f924-a3ae-4b9f-8676-ad68ddf4017c"
      },
      "source": [
        "y_pred"
      ],
      "execution_count": 141,
      "outputs": [
        {
          "output_type": "execute_result",
          "data": {
            "text/plain": [
              "array([[5.33353925e-01, 4.53585416e-01, 3.01666441e-03, 8.04041847e-05,\n",
              "        2.04836600e-03, 7.03835758e-05, 2.15649162e-03, 7.23100966e-04,\n",
              "        3.21912556e-03, 1.74599874e-03],\n",
              "       [5.43902099e-01, 4.36344206e-01, 4.57113842e-03, 1.91731800e-04,\n",
              "        3.05014267e-03, 1.38749660e-04, 3.01117101e-03, 1.27254648e-03,\n",
              "        4.84534539e-03, 2.67290790e-03],\n",
              "       [5.33614635e-01, 4.52389836e-01, 3.26156779e-03, 9.09435039e-05,\n",
              "        2.16546538e-03, 7.46829828e-05, 2.32774927e-03, 7.72600004e-04,\n",
              "        3.50660062e-03, 1.79597805e-03],\n",
              "       [5.33616900e-01, 4.47704703e-01, 4.31710435e-03, 1.48872918e-04,\n",
              "        2.91692023e-03, 1.21810161e-04, 3.06355581e-03, 1.09114288e-03,\n",
              "        4.58722236e-03, 2.43172236e-03],\n",
              "       [5.03375411e-01, 4.54850495e-01, 9.05613042e-03, 5.40109118e-04,\n",
              "        6.53666398e-03, 4.53671237e-04, 7.23231630e-03, 2.93087796e-03,\n",
              "        9.31760482e-03, 5.70665905e-03],\n",
              "       [4.15159374e-01, 4.21672344e-01, 3.02128643e-02, 4.86336183e-03,\n",
              "        2.53630970e-02, 4.71839588e-03, 2.77291778e-02, 1.48746995e-02,\n",
              "        3.20241489e-02, 2.33825371e-02],\n",
              "       [5.56160986e-01, 4.30379033e-01, 3.13177123e-03, 9.30783353e-05,\n",
              "        2.10719858e-03, 7.66626399e-05, 2.12922762e-03, 7.62532232e-04,\n",
              "        3.35407979e-03, 1.80542679e-03],\n",
              "       [5.18725634e-01, 4.52263862e-01, 6.21937867e-03, 3.03686975e-04,\n",
              "        4.75823274e-03, 2.85758200e-04, 4.81814286e-03, 1.92079192e-03,\n",
              "        6.73013134e-03, 3.97435948e-03],\n",
              "       [5.55684805e-01, 4.39868659e-01, 1.09796866e-03, 1.46529210e-05,\n",
              "        6.69441826e-04, 1.10891115e-05, 7.18933647e-04, 1.92142921e-04,\n",
              "        1.20739883e-03, 5.34879626e-04],\n",
              "       [5.30853570e-01, 4.63472426e-01, 1.37570594e-03, 1.99873230e-05,\n",
              "        8.66141869e-04, 1.59349183e-05, 9.76708019e-04, 2.49759236e-04,\n",
              "        1.47873617e-03, 6.90994784e-04]], dtype=float32)"
            ]
          },
          "metadata": {
            "tags": []
          },
          "execution_count": 141
        }
      ]
    },
    {
      "cell_type": "code",
      "metadata": {
        "id": "elBpNHlk7_d3",
        "colab_type": "code",
        "colab": {
          "base_uri": "https://localhost:8080/",
          "height": 1000
        },
        "outputId": "202eb427-a494-4c63-c556-b70c82b789cc"
      },
      "source": [
        "history = model.fit(X_train, y_train, epochs=30)"
      ],
      "execution_count": 142,
      "outputs": [
        {
          "output_type": "stream",
          "text": [
            "Epoch 1/30\n",
            "13/13 [==============================] - 207s 16s/step - loss: 0.9523 - accuracy: 0.4900\n",
            "Epoch 2/30\n",
            "13/13 [==============================] - 207s 16s/step - loss: 0.9171 - accuracy: 0.5350\n",
            "Epoch 3/30\n",
            "13/13 [==============================] - 206s 16s/step - loss: 0.9299 - accuracy: 0.5375\n",
            "Epoch 4/30\n",
            "13/13 [==============================] - 206s 16s/step - loss: 0.8932 - accuracy: 0.5125\n",
            "Epoch 5/30\n",
            "13/13 [==============================] - 207s 16s/step - loss: 1.0999 - accuracy: 0.5200\n",
            "Epoch 6/30\n",
            "13/13 [==============================] - 209s 16s/step - loss: 1.0796 - accuracy: 0.5175\n",
            "Epoch 7/30\n",
            "13/13 [==============================] - 207s 16s/step - loss: 0.8989 - accuracy: 0.4975\n",
            "Epoch 8/30\n",
            "13/13 [==============================] - 206s 16s/step - loss: 0.8668 - accuracy: 0.4775\n",
            "Epoch 9/30\n",
            "13/13 [==============================] - 206s 16s/step - loss: 0.8712 - accuracy: 0.4700\n",
            "Epoch 10/30\n",
            "13/13 [==============================] - 210s 16s/step - loss: 0.8238 - accuracy: 0.4975\n",
            "Epoch 11/30\n",
            "13/13 [==============================] - 207s 16s/step - loss: 0.7887 - accuracy: 0.5200\n",
            "Epoch 12/30\n",
            "13/13 [==============================] - 207s 16s/step - loss: 0.8047 - accuracy: 0.5300\n",
            "Epoch 13/30\n",
            "13/13 [==============================] - 207s 16s/step - loss: 0.8213 - accuracy: 0.5025\n",
            "Epoch 14/30\n",
            "13/13 [==============================] - 207s 16s/step - loss: 0.7215 - accuracy: 0.6000\n",
            "Epoch 15/30\n",
            "13/13 [==============================] - 207s 16s/step - loss: 0.7677 - accuracy: 0.5775\n",
            "Epoch 16/30\n",
            "13/13 [==============================] - 207s 16s/step - loss: 0.7717 - accuracy: 0.5775\n",
            "Epoch 17/30\n",
            "13/13 [==============================] - 207s 16s/step - loss: 0.7438 - accuracy: 0.6075\n",
            "Epoch 18/30\n",
            "13/13 [==============================] - 208s 16s/step - loss: 0.7496 - accuracy: 0.5975\n",
            "Epoch 19/30\n",
            "13/13 [==============================] - 207s 16s/step - loss: 0.7117 - accuracy: 0.5750\n",
            "Epoch 20/30\n",
            "13/13 [==============================] - 207s 16s/step - loss: 0.6615 - accuracy: 0.6250\n",
            "Epoch 21/30\n",
            "13/13 [==============================] - 207s 16s/step - loss: 0.6070 - accuracy: 0.6850\n",
            "Epoch 22/30\n",
            "13/13 [==============================] - 208s 16s/step - loss: 0.6528 - accuracy: 0.6600\n",
            "Epoch 23/30\n",
            "13/13 [==============================] - 206s 16s/step - loss: 0.5533 - accuracy: 0.7075\n",
            "Epoch 24/30\n",
            "13/13 [==============================] - 207s 16s/step - loss: 1.8422 - accuracy: 0.6575\n",
            "Epoch 25/30\n",
            "13/13 [==============================] - 207s 16s/step - loss: 1.7733 - accuracy: 0.5825\n",
            "Epoch 26/30\n",
            "13/13 [==============================] - 206s 16s/step - loss: 0.7067 - accuracy: 0.6525\n",
            "Epoch 27/30\n",
            "13/13 [==============================] - 206s 16s/step - loss: 0.6355 - accuracy: 0.6525\n",
            "Epoch 28/30\n",
            "13/13 [==============================] - 206s 16s/step - loss: 0.5672 - accuracy: 0.7050\n",
            "Epoch 29/30\n",
            "13/13 [==============================] - 207s 16s/step - loss: 0.4741 - accuracy: 0.7800\n",
            "Epoch 30/30\n",
            "13/13 [==============================] - 207s 16s/step - loss: 0.5297 - accuracy: 0.7675\n"
          ],
          "name": "stdout"
        }
      ]
    },
    {
      "cell_type": "code",
      "metadata": {
        "id": "Cp6x3XVf8YPa",
        "colab_type": "code",
        "colab": {
          "base_uri": "https://localhost:8080/",
          "height": 34
        },
        "outputId": "6fb11256-b897-447b-cf3b-12ec8b4d7934"
      },
      "source": [
        "score = model.evaluate(X_test, y_test)"
      ],
      "execution_count": 143,
      "outputs": [
        {
          "output_type": "stream",
          "text": [
            "4/4 [==============================] - 11s 3s/step - loss: 0.6723 - accuracy: 0.6337\n"
          ],
          "name": "stdout"
        }
      ]
    },
    {
      "cell_type": "code",
      "metadata": {
        "id": "CXZwUdFjWdYq",
        "colab_type": "code",
        "colab": {}
      },
      "source": [
        ""
      ],
      "execution_count": 0,
      "outputs": []
    }
  ]
}